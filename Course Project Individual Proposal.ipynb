{
 "cells": [
  {
   "cell_type": "markdown",
   "id": "3304b378",
   "metadata": {},
   "source": [
    "# COURSE PROJECT INDIVIDUAL PROPOSAL\n",
    "Joshua Chen"
   ]
  },
  {
   "cell_type": "markdown",
   "id": "70a1333d",
   "metadata": {},
   "source": [
    "<b>Proposed groupmates:</b>\n",
    "Zhe Lyu\n,",
    "Yi Guo\n,",
    "Jiacheng Zhou"
   ]
  },
  {
   "cell_type": "markdown",
   "id": "e950aab2",
   "metadata": {},
   "source": [
    "## Analysis #1\n",
    "A comparison between GEO_rural_urban and CONNECTION_community_barriers_social_anxiety"
   ]
  },
  {
   "cell_type": "markdown",
   "id": "3d1ee034",
   "metadata": {},
   "source": [
    "I would like to analyze the correlation between the places people originate from and their feelings of social anxiety. I believe that this is testable via a G test, as it would be able to determine the distribution of people identifying as having social anxiety, in regards to their location. \n",
    "\n",
    "This relates to the course project’s objective as it can be used to determine the influence that physical location could influence how likely someone is to develop a sense of social connection. Those with social anxiety typically face more barriers when connecting with others.\n",
    "\n",
    "<b>Possible outcomes are:</b>\n",
    "- No significant relationship, social anxiety affects people equally in rural, urban and larger urban settings. This would mean that potential focus could be placed overall across all environments and locations.\n",
    "- Significant relationship, social anxiety affects people in rural and urban settings differently. This would mean potential focus and resources could be designated to the environment which needs it most."
   ]
  },
  {
   "cell_type": "markdown",
   "id": "b34484e0",
   "metadata": {},
   "source": [
    "## Analysis #2\n",
    "An analysis of the correlation between Age and WELLNESS_life_satisfaction"
   ]
  },
  {
   "cell_type": "markdown",
   "id": "21abaa8b",
   "metadata": {},
   "source": [
    "Another analysis I would like to complete is the correlation between an individual’s age and their overall life satisfaction. I feel this is still a meaningful analysis, as there are ongoing studies regarding the prevalence of depression and overall life satisfaction decreasing in regards to nursing homes (see https://pubmed.ncbi.nlm.nih.gov/9738246/ as just one example).\n",
    "\n",
    "This relates to the course project’s objective as it can be used to determine the effect age plays on how an individual feels their overall life is going. In my third analysis, I will be analyzing the effect that overall life satisfaction plays in regards to an individual’s depression. This second analysis allows for effectively analyzing three variables and determining their relationships. A further sub-analysis I would like to do regarding this category is to categorize “pre-covid” and “post-covid” high school years.\n",
    "\n",
    "<b>Possible outcomes are:</b>\n",
    "- Positive correlation, in that older individuals report higher overall wellness scores.\n",
    "    This could suggest that as individuals get older, they feel more comfortable with social interaction and as a result, their overall life satisfaction increases.\n",
    "    This would allow us to allocate more resources into encouraging social connections and general development focusing towards younger people.\n",
    "- Negative correlation, in that younger individuals report higher overall wellness scores.\n",
    "    This is effectively the opposite of the one above.\n",
    "- No correlation\n",
    "    There is no correlation, little to no focus needs to be placed on an individual’s age when considering the prospects of this course project.\n",
    "- Non Linear Correlation (I’m really not sure what this is called necessarily)\n",
    "    In relation to the COVID high school theory, it could be that the overall life satisfaction varies depending on age, and dips at various ages such as around graduation or mid-life."
   ]
  },
  {
   "cell_type": "markdown",
   "id": "dae6293d",
   "metadata": {},
   "source": [
    "## Analysis #3\n",
    "An analysis on Overall Life Satisfaction vs Depression"
   ]
  },
  {
   "cell_type": "markdown",
   "id": "d4941e6b",
   "metadata": {},
   "source": [
    "If analysis #2 is deemed to have an correlation, this analysis could be used to further isolate the comparison between life satisfaction and depression, to be further related to an individual’s age. This relates to the project’s objective as it provides an insight into an individuals well-being and mental health, which could affect social connections.\n",
    "\n",
    "<b>Possible outcomes are:</b>\n",
    "- Negative correlation, higher levels of depression are correlated with lower life satisfaction\n",
    "    This is more or less the expected result. When paired with analysis #2, aid can be given to individuals of various ages, whilst also accounting for overall life satisfaction so as to not “bombard” others who may not need as many resources at that given time.\n",
    "- No correlation\n",
    "    This would be relatively unexpected.\n",
    "- Non Linear Correlation\n",
    "    A theory might be that at low values of overall life satisfaction, depression is higher, but at higher values it may not have any correlation, as an individual may be satisfied in their life but still feel depressed.\n"
   ]
  }
 ],
 "metadata": {
  "kernelspec": {
   "display_name": "Python 3 (ipykernel)",
   "language": "python",
   "name": "python3"
  },
  "language_info": {
   "codemirror_mode": {
    "name": "ipython",
    "version": 3
   },
   "file_extension": ".py",
   "mimetype": "text/x-python",
   "name": "python",
   "nbconvert_exporter": "python",
   "pygments_lexer": "ipython3",
   "version": "3.11.6"
  }
 },
 "nbformat": 4,
 "nbformat_minor": 5
}
