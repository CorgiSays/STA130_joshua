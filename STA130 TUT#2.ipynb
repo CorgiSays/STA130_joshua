{
 "cells": [
  {
   "cell_type": "markdown",
   "id": "d5dc8980",
   "metadata": {},
   "source": [
    "# STA130 TUTORIAL 2"
   ]
  },
  {
   "cell_type": "code",
   "execution_count": 8,
   "id": "fcf69c75",
   "metadata": {},
   "outputs": [
    {
     "data": {
      "text/plain": [
       "'66.65% Win Rate'"
      ]
     },
     "execution_count": 8,
     "metadata": {},
     "output_type": "execute_result"
    }
   ],
   "source": [
    "# Monte Hall Simulation Code -- not the only way to code this, but it's what Prof. Schwartz came up with...\n",
    "\n",
    "import numpy as np\n",
    "all_door_options = (1,2,3)  # tuple\n",
    "my_door_choice = 1  # 1,2,3\n",
    "i_won = 0\n",
    "reps = 100000\n",
    "for i in range(reps):\n",
    "    secret_winning_door = np.random.choice(all_door_options)\n",
    "    all_door_options_list = list(all_door_options)\n",
    "    # take the secret_winning_door, so we don't show it as a \"goat\" losing door\n",
    "    all_door_options_list.remove(secret_winning_door)\n",
    "    try:\n",
    "        # if my_door_choice was secret_winning_door then it's already removed\n",
    "        all_door_options_list.remove(my_door_choice)\n",
    "    except:\n",
    "        pass\n",
    "    # show a \"goat\" losing door and remove it\n",
    "    goat_door_reveal = np.random.choice(all_door_options_list)\n",
    "    all_door_options_list.remove(goat_door_reveal)\n",
    "\n",
    "    # put the secret_winning_door back in if it wasn't our choice\n",
    "    # we previously removed it, so it would be shown as a  \"goat\" losing door\n",
    "    if secret_winning_door != my_door_choice:\n",
    "        all_door_options_list.append(secret_winning_door)\n",
    "    # if secret_winning_door was our choice then all that's left in the list is a \"goat\" losing door\n",
    "    # if secret_winning_door wasn't our choice then it's all that will be left in the list\n",
    "\n",
    "    # swap strategy\n",
    "    my_door_choice = all_door_options_list[0]\n",
    "\n",
    "    if my_door_choice == secret_winning_door:\n",
    "        i_won += 1\n",
    "\n",
    "str((i_won/reps)*100)[:5] + \"% Win Rate\" "
   ]
  },
  {
   "cell_type": "markdown",
   "id": "315308ae",
   "metadata": {},
   "source": [
    "ChatGPT's version with the more streamlined code"
   ]
  },
  {
   "cell_type": "code",
   "execution_count": 12,
   "id": "d4c08c17",
   "metadata": {},
   "outputs": [
    {
     "data": {
      "text/plain": [
       "'66.69% Win Rate'"
      ]
     },
     "execution_count": 12,
     "metadata": {},
     "output_type": "execute_result"
    }
   ],
   "source": [
    "import numpy as np\n",
    "\n",
    "all_door_options = (1, 2, 3)\n",
    "i_won = 0\n",
    "reps = 100000\n",
    "\n",
    "for _ in range(reps):\n",
    "    # Randomly assign the winning door\n",
    "    secret_winning_door = np.random.choice(all_door_options)\n",
    "    \n",
    "    # Player initially picks a random door\n",
    "    my_door_choice = np.random.choice(all_door_options)\n",
    "    \n",
    "    # Monty reveals a goat door (a door that is neither the player's choice nor the winning door)\n",
    "    remaining_doors = [door for door in all_door_options if door != my_door_choice and door != secret_winning_door]\n",
    "    monty_reveals = np.random.choice(remaining_doors)\n",
    "    \n",
    "    # The player switches to the remaining door (which wasn't revealed and isn't the original choice)\n",
    "    my_door_choice = [door for door in all_door_options if door != my_door_choice and door != monty_reveals][0]\n",
    "    \n",
    "    # Check if the new choice is the winning door\n",
    "    if my_door_choice == secret_winning_door:\n",
    "        i_won += 1\n",
    "\n",
    "# Calculate win rate\n",
    "print(f\"{(i_won / reps) * 100:.2f}% Win Rate\")\n"
   ]
  },
  {
   "cell_type": "markdown",
   "id": "ec63132c",
   "metadata": {},
   "source": [
    "I made a small modification to this code to allow for swapping between using the defined strategy of switching doors, and the losing strategy of staying at the same door. This new version will run the code's 100,000 iterations twice and print out the results of both attempts."
   ]
  },
  {
   "cell_type": "code",
   "execution_count": 13,
   "id": "5f3ed4a9",
   "metadata": {},
   "outputs": [
    {
     "name": "stdout",
     "output_type": "stream",
     "text": [
      "66.83% Win Rate\n",
      "33.26% Win Rate\n"
     ]
    }
   ],
   "source": [
    "import numpy as np\n",
    "\n",
    "def montyHall(strategy: bool) -> None:\n",
    "    all_door_options = (1, 2, 3)\n",
    "    i_won = 0\n",
    "    reps = 100000\n",
    "\n",
    "    for _ in range(reps):\n",
    "        # Randomly assign the winning door\n",
    "        secret_winning_door = np.random.choice(all_door_options)\n",
    "\n",
    "        # Player initially picks a random door\n",
    "        my_door_choice = np.random.choice(all_door_options)\n",
    "\n",
    "        # Monty reveals a goat door (a door that is neither the player's choice nor the winning door)\n",
    "        remaining_doors = [door for door in all_door_options if door != my_door_choice and door != secret_winning_door]\n",
    "        monty_reveals = np.random.choice(remaining_doors)\n",
    "\n",
    "        # The player switches to the remaining door (which wasn't revealed and isn't the original choice)\n",
    "        if strategy:\n",
    "            my_door_choice = [door for door in all_door_options if door != my_door_choice and door != monty_reveals][0]\n",
    "\n",
    "        # Check if the new choice is the winning door\n",
    "        if my_door_choice == secret_winning_door:\n",
    "            i_won += 1\n",
    "\n",
    "    # Calculate win rate\n",
    "    f\"{(i_won / reps) * 100:.2f}% Win Rate\"\n",
    "montyHall(True)\n",
    "montyHall(False)"
   ]
  },
  {
   "cell_type": "markdown",
   "id": "a4a39281",
   "metadata": {},
   "source": [
    "This version will include per line comments by me, removing the chatGPT in line comments."
   ]
  },
  {
   "cell_type": "code",
   "execution_count": null,
   "id": "e9fcc799",
   "metadata": {},
   "outputs": [],
   "source": [
    "import numpy as np # imports the required numpy library\n",
    "\n",
    "def montyHall(strategy: bool) -> None: # defines the monty hall problem as a function\n",
    "    all_door_options = (1, 2, 3) # sets a variable to a tuple with all the door options\n",
    "    i_won = 0 # fixes a variable to be a counter for the number of times you have won\n",
    "    reps = 100000 # sets the number of repetitions. In this case, 100,000 times.\n",
    "\n",
    "    for _ in range(reps): # runs the code below 100,000 times\n",
    "        \n",
    "        secret_winning_door = np.random.choice(all_door_options) # Chooses a random door to be the winning door using numpy's random.choice\n",
    "\n",
    "        my_door_choice = np.random.choice(all_door_options) # Chooses a random door to be the player's door using numpy's random.choice\n",
    "\n",
    "        remaining_doors = [door for door in all_door_options if door != my_door_choice and door != secret_winning_door] # I will expand this line as in reality, it is more like five lines under a trenchcoat\n",
    "        \"\"\"\n",
    "        door for door in all_door_options will interate through all the door options\n",
    "        if door != my_door_choice will ensure that the door chosen will never be the player's door choice\n",
    "        and door != secret_winning_door will ensure that the door chosen will never be the winning door\n",
    "        \n",
    "        As a result, the only door that will be left over for opening will be a door that is neither the winning door nor the player's choice\n",
    "        \"\"\"\n",
    "        monty_reveals = np.random.choice(remaining_doors) # Uses numpy's random.choice to decide a random door that is neither the winning door nor the player's choice door.\n",
    "\n",
    "        if strategy: # Checks to see if the code will be using the winning strategy of swapping, or if it will stay at its current door\n",
    "            my_door_choice = [door for door in all_door_options if door != my_door_choice and door != monty_reveals][0] # Swaps the door, ensuring that it is not the monty revealed door nor the door that the player already chose.\n",
    "\n",
    "        if my_door_choice == secret_winning_door: # Checks to see if the door choice was the winning door.\n",
    "            i_won += 1 # If so, add one to the win counter\n",
    "\n",
    "    f\"{(i_won / reps) * 100:.2f}% Win Rate\" # Prints and calculates the win rate by dividing the number of wins by the number of reps then multiplying by 100.\n",
    "montyHall(True) # runs the function for \"true\" use the strategy\n",
    "montyHall(False) # runs the function for \"false\" dont use the strategy"
   ]
  },
  {
   "cell_type": "markdown",
   "id": "c8c5aa34",
   "metadata": {},
   "source": [
    "# ChatGPT Transcript for Monte Hall Problem section\n",
    "\n",
    "https://chatgpt.com/share/66eaed48-ed1c-8002-9122-2f1811ab0948"
   ]
  },
  {
   "cell_type": "code",
   "execution_count": null,
   "id": "58a8458d",
   "metadata": {},
   "outputs": [],
   "source": [
    "# Markov Chains and Text Generation\n",
    "from IPython.display import YouTubeVideo\n",
    "YouTubeVideo('56mGTszb_iM', width = 550)"
   ]
  },
  {
   "cell_type": "markdown",
   "id": "4883ce7e",
   "metadata": {},
   "source": [
    "# Transcript for the Markovian Chain Code\n",
    "\n",
    "https://chatgpt.com/share/66eaee1d-8864-8002-82f0-c85df91250f1"
   ]
  },
  {
   "cell_type": "code",
   "execution_count": 8,
   "id": "e12f9d04",
   "metadata": {},
   "outputs": [
    {
     "name": "stdout",
     "output_type": "stream",
     "text": [
      "defaultdict(<function <lambda> at 0x7f99e8e27e20>, {'I': {'Like': 2}, 'Like': {'Coffee': 1, 'Tea': 1}, 'Coffee': {'I': 1}})\n"
     ]
    }
   ],
   "source": [
    "# Markovian Chatbot\n",
    "\n",
    "from collections import defaultdict\n",
    "word_used = defaultdict(int)\n",
    "next_word = defaultdict(lambda: defaultdict(int))\n",
    "words = [\"I\",\"Like\",\"Coffee\",\"I\",\"Like\",\"Tea\"]\n",
    "for i,word in enumerate(words[:-1]):\n",
    "\n",
    "    if word in word_used:\n",
    "        word_used[word] += 1\n",
    "    else:\n",
    "        word_used[word] = 1\n",
    "        next_word[word] = {}\n",
    "\n",
    "    if words[i+1] in next_word[word]:\n",
    "        next_word[word][words[i+1]] += 1\n",
    "    else:\n",
    "        next_word[word][words[i+1]] = 1"
   ]
  },
  {
   "cell_type": "markdown",
   "id": "216ceea1",
   "metadata": {},
   "source": [
    "# Transcript for Question 5\n",
    "The code used is in the chatgpt transcripts\n",
    "https://chatgpt.com/share/66eb0162-b260-8002-823e-ed9f10e265da"
   ]
  },
  {
   "cell_type": "markdown",
   "id": "a91a3982",
   "metadata": {},
   "source": [
    "<b>Discuss how quickly the ChatBot was able to be helpful for each of the above questions, and if so, how?</b>\n",
    "    ChatGPT was able to answer all of the questions asked n good detail almost immediately. Much of the information provided by ChatGPT was accurate, and with minor clarifications/further questioning, it was able to clarify everything else. It seemed that ChatGPT was helpful throughout this entire homework assignment.\n",
    "<br><br>\n",
    "\n",
    "<b>Discuss whether or not interacting with ChatBot to try to figure things out was frustrating or unhelpful, and if so, how?</b>\n",
    "    At times, a couple bits of information would have potentially been faster to learn without using ChatGPT. However, I do not think that at any point, utilizing ChatGPT was frustrating or unhelpful. Regardless of its use to myself personally at certain points, it was helpful at other points when I may not have understood a line of code or anything of the sort.\n",
    "<br><br>\n",
    "\n",
    "<b>Based on your experiences to date (e.g., including using ChatBots to troubleshoot coding errors in the previous homework), provide an overall assessment evaluating the usefulness of ChatBots as tools to help you understand code</b>\n",
    "    I programmed quite a bit throughout high school, and as a result, I am quite familiar with ChatGPT and other tools like GitHub Copilot. I think that chat bots and large scale language prediction models are very helpful for understanding and reinforcing concepts. However, I do not think that utilizing AI entirely for programming teaches you anything, and as such does not accomplish much of the purpose of learning. It should be used as an aid, not a crutch. If I had to give it an overall assessment, I think that in the coming years, Chat Bots will find their way deeper into our education and become a critical part of our lives moreso than it already is. It enables people to access knowledge much faster than in any other way."
   ]
  },
  {
   "cell_type": "markdown",
   "id": "a4e83785",
   "metadata": {},
   "source": [
    "<b>Reflect on your experience interacting with ChatBot and describe how your perception of AI-driven assistance tools in the context of learning coding, statistics, and data science has been evolving (or not) since joining the course</b>\n",
    "<br>\n",
    "    My perception of AI-driven assistance tools in the context of learning coding, statistics and data science has maintained more or less the same. I had always viewed AI with a similar mentality of \"it is used as an aid not a crutch\", where you can have AI guide you to the right answer but the final answer and explanation should be yours and not the AI's. Using AI in a stats course was something unfamiliar to me as I did not take any high school statistics, but it feels as though AI belongs well within a stats course."
   ]
  },
  {
   "cell_type": "markdown",
   "id": "68fc4e71",
   "metadata": {},
   "source": [
    "# ChatGPT's summary of the career oriented discussion:"
   ]
  },
  {
   "cell_type": "markdown",
   "id": "13d71c51",
   "metadata": {},
   "source": [
    "In today's tech landscape, both advanced programming skills and familiarity with AI are crucial for a successful career in computer science and software engineering. Advanced programming provides a foundation for designing, building, and maintaining complex systems, while AI knowledge enhances your ability to work on innovative projects and stay current with emerging trends. In addition to these skills, essential competencies for a computer scientist include problem-solving, software design, data structures and algorithms, systems and networking, security, database management, communication, project management, continuous learning, and creativity. Balancing these skills equips you to tackle diverse challenges and excel in various roles within the tech industry."
   ]
  },
  {
   "cell_type": "markdown",
   "id": "da979c69",
   "metadata": {},
   "source": [
    "https://chatgpt.com/share/66eb0561-0590-8002-89c4-b46ba2452e1d"
   ]
  },
  {
   "cell_type": "markdown",
   "id": "3b541e76",
   "metadata": {},
   "source": [
    "The general conclusion reached in my conversation with ChatGPT regarding career was about the importance of not relying on AI. In today's world, whilst it is possible to rely entirely on ChatGPT as a crutch for a lack of knowledge on important topics for your field, it is making your life exponentially harder.\n",
    "\n",
    "Being able to understand the code, as well as solve problems on your own, will result in a vastly more successful career as you will gain the problem solving skills and gain a competitive edge against your peers in a competitive field such as computer science."
   ]
  },
  {
   "cell_type": "markdown",
   "id": "9c6f43d5",
   "metadata": {},
   "source": [
    "Give your thoughts regarding the helpfulness or limitations of your conversation with a ChatBot, and describe the next steps you would take to pursue this conversation further if you felt the information the ChatBot provides was somewhat high level and general, and perhaps lacked the depth and detailed knowledge of a dedicated subject matter expert who had really take the time to understand the ins and outs of the industry and career path in question.\n",
    "<br>\n",
    "I feel as though the limitations of the AI are that in the end, it will answer in a way that pleases the person in question. One notable thing earlier into the development of ChatGPT was people being able to convince the AI that \"2+2 = 5\" and other various obviously wrong pieces of information. ChatGPT would listen to the user and say whatever pleased the person. I do believe that in the end, researching on your own is still required despite the advent of ChatGPT and other language based models. I would not say that it lacked the depth and detailed knowledge of someone who understood the field, as it was trained on the internet in which there are countless articles and documents involving experts in every field."
   ]
  },
  {
   "cell_type": "markdown",
   "id": "3aeea34b",
   "metadata": {},
   "source": [
    "Have you reviewed the course wiki-textbook and interacted with a ChatBot (or, if that wasn't sufficient, real people in the course piazza discussion board or TA office hours) to help you understand all the material in the tutorial and lecture that you didn't quite follow when you first saw it?"
   ]
  },
  {
   "cell_type": "markdown",
   "id": "4a40e584",
   "metadata": {},
   "source": [
    "I have browsed the course wiki-textbook and interacted with chatbots throughout this course as well as other courses. I have used them as an aid to help me understand various topics and clarify points in which professors may be a bit confusing or I may have missed a section."
   ]
  },
  {
   "cell_type": "code",
   "execution_count": null,
   "id": "5fa89299",
   "metadata": {},
   "outputs": [],
   "source": []
  }
 ],
 "metadata": {
  "kernelspec": {
   "display_name": "Python 3 (ipykernel)",
   "language": "python",
   "name": "python3"
  },
  "language_info": {
   "codemirror_mode": {
    "name": "ipython",
    "version": 3
   },
   "file_extension": ".py",
   "mimetype": "text/x-python",
   "name": "python",
   "nbconvert_exporter": "python",
   "pygments_lexer": "ipython3",
   "version": "3.11.6"
  }
 },
 "nbformat": 4,
 "nbformat_minor": 5
}
