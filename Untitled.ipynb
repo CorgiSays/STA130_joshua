{
 "cells": [
  {
   "cell_type": "markdown",
   "id": "a3a20095",
   "metadata": {},
   "source": [
    "# Data Sets w/ Missing Values"
   ]
  },
  {
   "cell_type": "code",
   "execution_count": 21,
   "id": "ffe5e002-17f1-445c-b9fa-06667f424bcd",
   "metadata": {
    "scrolled": false
   },
   "outputs": [
    {
     "name": "stdout",
     "output_type": "stream",
     "text": [
      "PassengerId      0\n",
      "Survived         0\n",
      "Pclass           0\n",
      "Name             0\n",
      "Sex              0\n",
      "Age            177\n",
      "SibSp            0\n",
      "Parch            0\n",
      "Ticket           0\n",
      "Fare             0\n",
      "Cabin          687\n",
      "Embarked         2\n",
      "dtype: int64\n"
     ]
    }
   ],
   "source": [
    "import pandas as pd\n",
    "\n",
    "# URL of the dataset\n",
    "url = 'https://raw.githubusercontent.com/datasciencedojo/datasets/master/titanic.csv'\n",
    "\n",
    "# Load the dataset into a DataFrame\n",
    "df = pd.read_csv(url)\n",
    "\n",
    "# Calculate the count of missing values for each column\n",
    "missing_data_count = df.isnull().sum()\n",
    "\n",
    "# Display the count of missing values for each column\n",
    "print(missing_data_count)\n"
   ]
  },
  {
   "cell_type": "code",
   "execution_count": null,
   "id": "f6ae4b12",
   "metadata": {},
   "outputs": [],
   "source": []
  }
 ],
 "metadata": {
  "kernelspec": {
   "display_name": "Python 3 (ipykernel)",
   "language": "python",
   "name": "python3"
  },
  "language_info": {
   "codemirror_mode": {
    "name": "ipython",
    "version": 3
   },
   "file_extension": ".py",
   "mimetype": "text/x-python",
   "name": "python",
   "nbconvert_exporter": "python",
   "pygments_lexer": "ipython3",
   "version": "3.11.6"
  }
 },
 "nbformat": 4,
 "nbformat_minor": 5
}
